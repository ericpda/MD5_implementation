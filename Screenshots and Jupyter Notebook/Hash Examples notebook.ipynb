{
 "cells": [
  {
   "cell_type": "markdown",
   "id": "362d7f32",
   "metadata": {},
   "source": [
    "# Adding directory to system path so we can access our module"
   ]
  },
  {
   "cell_type": "code",
   "execution_count": 9,
   "id": "a0a1f995",
   "metadata": {},
   "outputs": [],
   "source": [
    "import os\n",
    "import sys\n",
    "nb_dir = os.path.split(os.getcwd())[0]\n",
    "if nb_dir not in sys.path:\n",
    "    sys.path.append(nb_dir)"
   ]
  },
  {
   "cell_type": "markdown",
   "id": "837a90e8",
   "metadata": {},
   "source": [
    "# Hash Examples"
   ]
  },
  {
   "cell_type": "code",
   "execution_count": 10,
   "id": "e8767f55",
   "metadata": {},
   "outputs": [
    {
     "name": "stdout",
     "output_type": "stream",
     "text": [
      "Plaintext message     : 'hello'\n",
      "    hashlib version   : '5d41402abc4b2a76b9719d911017c592'\n",
      "   hash (own) version : '5d41402abc4b2a76b9719d911017c592'\n",
      "        Match         ? True\n",
      "\n",
      "Plaintext message     : 'I will be hashed soon enough!'\n",
      "    hashlib version   : '7b6bc1e4eafc6fcc44f747ca379baa61'\n",
      "   hash (own) version : '7b6bc1e4eafc6fcc44f747ca379baa61'\n",
      "        Match         ? True\n",
      "\n",
      "Plaintext message     : 'testing'\n",
      "    hashlib version   : 'ae2b1fca515949e5d54fb22b8ed95575'\n",
      "   hash (own) version : 'ae2b1fca515949e5d54fb22b8ed95575'\n",
      "        Match         ? True\n",
      "\n",
      "Plaintext message     : 'Riga Technical University'\n",
      "    hashlib version   : '0a4b8aab1d29bc1c886ce7f1639dc799'\n",
      "   hash (own) version : '0a4b8aab1d29bc1c886ce7f1639dc799'\n",
      "        Match         ? True\n",
      "\n",
      "Plaintext message     : 'Eric PEREIRA DE AMORIM'\n",
      "    hashlib version   : 'b287ce8ff154c575ae2d8087b106445c'\n",
      "   hash (own) version : 'b287ce8ff154c575ae2d8087b106445c'\n",
      "        Match         ? True\n",
      "\n",
      "Plaintext message     : ''\n",
      "    hashlib version   : 'd41d8cd98f00b204e9800998ecf8427e'\n",
      "   hash (own) version : 'd41d8cd98f00b204e9800998ecf8427e'\n",
      "        Match         ? True\n",
      "\n"
     ]
    }
   ],
   "source": [
    "\"\"\"\n",
    "@author: Eric PEREIRA DE AMORIM\n",
    "\n",
    "Let's print some examples and verify them with the MD5 function from hashlib.\n",
    "\"\"\"\n",
    "\n",
    "import hash, hashlib\n",
    "\n",
    "plaintexts = [\"hello\", \"I will be hashed soon enough!\", \"testing\", \"Riga Technical University\", \"Eric PEREIRA DE AMORIM\", \"\"]\n",
    "\n",
    "for plaintext in plaintexts:\n",
    "    m = hashlib.md5()\n",
    "    m.update(bytearray(plaintext, 'ascii'))\n",
    "    hashedtext = hash.md5(plaintext)\n",
    "    print(\"Plaintext message     : '{}'\".format(plaintext))\n",
    "    print(\"    hashlib version   : '{}'\".format(m.hexdigest()))\n",
    "    print(\"   hash (own) version : '{}'\".format(hashedtext))\n",
    "    print(\"        Match         ? {}\".format(m.hexdigest() == hashedtext))\n",
    "    print()"
   ]
  }
 ],
 "metadata": {
  "kernelspec": {
   "display_name": "Python 3 (ipykernel)",
   "language": "python",
   "name": "python3"
  },
  "language_info": {
   "codemirror_mode": {
    "name": "ipython",
    "version": 3
   },
   "file_extension": ".py",
   "mimetype": "text/x-python",
   "name": "python",
   "nbconvert_exporter": "python",
   "pygments_lexer": "ipython3",
   "version": "3.9.7"
  }
 },
 "nbformat": 4,
 "nbformat_minor": 5
}
